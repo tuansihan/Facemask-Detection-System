{
 "cells": [
  {
   "cell_type": "markdown",
   "id": "9636e811",
   "metadata": {},
   "source": [
    "# Face Mask Detection"
   ]
  },
  {
   "cell_type": "code",
   "execution_count": 1,
   "id": "73447f47",
   "metadata": {},
   "outputs": [],
   "source": [
    "import tensorflow as tf\n",
    "import numpy as np\n",
    "import cv2\n",
    "import matplotlib.pyplot as plt\n",
    "from scipy.special import softmax"
   ]
  },
  {
   "cell_type": "code",
   "execution_count": 2,
   "id": "3518fd45",
   "metadata": {},
   "outputs": [],
   "source": [
    "# Loading Face Detection Model\n",
    "fd_model = cv2.dnn.readNetFromCaffe('D:/tuansihan/06 Projects/08 Face Mask Detection System/models/deploy.prototxt.txt',\n",
    "                                    'D:/tuansihan/06 Projects/08 Face Mask Detection System/models/res10_300x300_ssd_iter_140000_fp16.caffemodel')"
   ]
  },
  {
   "cell_type": "code",
   "execution_count": 3,
   "id": "0e08ca6b",
   "metadata": {},
   "outputs": [],
   "source": [
    "# Loading Face Mask Recognition Model\n",
    "model = tf.keras.models.load_model('face_mask_model/')"
   ]
  },
  {
   "cell_type": "code",
   "execution_count": 4,
   "id": "df7a78f8",
   "metadata": {},
   "outputs": [],
   "source": [
    "# Declaring Labels\n",
    "labels = ['Covered', 'Covered', 'No Mask', 'Nose Uncovered']"
   ]
  },
  {
   "cell_type": "code",
   "execution_count": 5,
   "id": "8519ed9f",
   "metadata": {},
   "outputs": [],
   "source": [
    "# Colors for Labels\n",
    "\n",
    "def getColor(label):\n",
    "\n",
    "    if label == \"Covered\":\n",
    "        color = (0, 255, 0)\n",
    "\n",
    "    elif label == \"No Mask\":\n",
    "        color = (0, 0, 255)\n",
    "\n",
    "    elif label == \"Nose Uncovered\":\n",
    "        color = (0, 255, 255)\n",
    "\n",
    "    else:\n",
    "        color = (255, 0, 255)\n",
    "\n",
    "    return color"
   ]
  },
  {
   "cell_type": "code",
   "execution_count": null,
   "id": "19a5bb09",
   "metadata": {},
   "outputs": [],
   "source": []
  },
  {
   "cell_type": "markdown",
   "id": "7c83133e",
   "metadata": {},
   "source": [
    "## Testing the Prediction"
   ]
  },
  {
   "cell_type": "code",
   "execution_count": 6,
   "id": "639fbfda",
   "metadata": {},
   "outputs": [],
   "source": [
    "# Import Test Image\n",
    "#img = cv2.imread('test-masked.jpg')\n",
    "\n",
    "# cv2.imshow('Original Image', img)\n",
    "# cv2.waitKey()\n",
    "# cv2.destroyAllWindows()"
   ]
  },
  {
   "cell_type": "markdown",
   "id": "3f2691d5",
   "metadata": {},
   "source": [
    "### Face Detection"
   ]
  },
  {
   "cell_type": "code",
   "execution_count": null,
   "id": "8bb1be35",
   "metadata": {},
   "outputs": [],
   "source": []
  },
  {
   "cell_type": "code",
   "execution_count": 7,
   "id": "bd16aa61",
   "metadata": {},
   "outputs": [],
   "source": [
    "def facemask_prediction(img):\n",
    "    \n",
    "    image = img.copy()\n",
    "    h, w = image.shape[:2]\n",
    "    blob = cv2.dnn.blobFromImage(image, 1, (300, 300),(104, 117, 123), swapRB = True)\n",
    "\n",
    "    fd_model.setInput(blob)\n",
    "    detection = fd_model.forward() # Get Detection\n",
    "\n",
    "    for i in range(0, detection.shape[2]):\n",
    "        confidence = detection[0, 0, i, 2]\n",
    "        if confidence > 0.5:\n",
    "            #print(confidence)\n",
    "            box = detection[0, 0, i, 3:7] * np.array([w, h, w, h])\n",
    "            box = box.astype(int)\n",
    "            pt1 = (box[0], box[1]) # Diagonals\n",
    "            pt2 = (box[2], box[3]) # Diagonals\n",
    "            #cv2.rectangle(image, pt1, pt2,(0,255,0), 1) # Draw Rectangle\n",
    "\n",
    "            # Crop Face\n",
    "            face = image[box[1]:box[3], box[3]:box[2]]\n",
    "            blob = cv2.dnn.blobFromImage(face, 1, (100, 100), (104, 117, 123), swapRB = True)\n",
    "            compressed_blob = np.squeeze(blob).T\n",
    "            rotated_blob = cv2.rotate(compressed_blob, cv2.ROTATE_90_CLOCKWISE)\n",
    "            flipped_blob = cv2.flip(rotated_blob, 1)\n",
    "            img_no_neg = np.maximum(flipped_blob, 0)\n",
    "            norm_img = img_no_neg/flipped_blob.max()\n",
    "\n",
    "            # Implementing CNN\n",
    "            img_input = norm_img.reshape(1,100,100,3) # Reshape to 4D\n",
    "            #print(img_input.shape)\n",
    "            result = model.predict(img_input)\n",
    "            #print(result)\n",
    "            result = softmax(result)[0]\n",
    "            conf_index = result.argmax() # get position with the highest value\n",
    "            #print(conf_index)\n",
    "            conf_score = result[conf_index]\n",
    "            label = labels[conf_index]\n",
    "            label_text = '{}: {:,.0f} %'.format(label, conf_score*100)\n",
    "            #print(label_text)\n",
    "\n",
    "            # Color Box\n",
    "            color = getColor(label)\n",
    "            cv2.rectangle(image, pt1, pt2, color, 1)\n",
    "            cv2.putText(image, label_text, (pt1), cv2.FONT_HERSHEY_PLAIN, 2, color, 1)\n",
    "        \n",
    "        return image"
   ]
  },
  {
   "cell_type": "code",
   "execution_count": 8,
   "id": "e8e32d72",
   "metadata": {},
   "outputs": [],
   "source": [
    "#softmax(result)"
   ]
  },
  {
   "cell_type": "code",
   "execution_count": 9,
   "id": "808161d1",
   "metadata": {},
   "outputs": [],
   "source": [
    "# img = cv2.imread('test-masked.jpg')\n",
    "\n",
    "# image = facemask_prediction(img)\n",
    "\n",
    "# cv2.imshow('Prediction', image)\n",
    "# cv2.waitKey()\n",
    "# cv2.destroyAllWindows()"
   ]
  },
  {
   "cell_type": "code",
   "execution_count": null,
   "id": "10015f9e",
   "metadata": {},
   "outputs": [],
   "source": []
  },
  {
   "cell_type": "markdown",
   "id": "37fe4281",
   "metadata": {},
   "source": [
    "## Real-Time Detection"
   ]
  },
  {
   "cell_type": "code",
   "execution_count": null,
   "id": "136a3c8e",
   "metadata": {},
   "outputs": [],
   "source": [
    "cap = cv2.VideoCapture(0)\n",
    "\n",
    "while True:\n",
    "    ret, frames = cap.read()\n",
    "    if ret == False:\n",
    "        break\n",
    "        \n",
    "    image = facemask_prediction(frames)\n",
    "    cv2.imshow('Face Mask Prediction System', image)\n",
    "    if cv2.waitKey(1) == 27:\n",
    "        break\n",
    "        \n",
    "cap.release()\n",
    "cv2.destroyAllWindows()"
   ]
  },
  {
   "cell_type": "code",
   "execution_count": null,
   "id": "497831bb",
   "metadata": {},
   "outputs": [],
   "source": []
  },
  {
   "cell_type": "code",
   "execution_count": null,
   "id": "f514925f",
   "metadata": {},
   "outputs": [],
   "source": []
  }
 ],
 "metadata": {
  "kernelspec": {
   "display_name": "Python 3 (ipykernel)",
   "language": "python",
   "name": "python3"
  },
  "language_info": {
   "codemirror_mode": {
    "name": "ipython",
    "version": 3
   },
   "file_extension": ".py",
   "mimetype": "text/x-python",
   "name": "python",
   "nbconvert_exporter": "python",
   "pygments_lexer": "ipython3",
   "version": "3.8.8"
  }
 },
 "nbformat": 4,
 "nbformat_minor": 5
}
